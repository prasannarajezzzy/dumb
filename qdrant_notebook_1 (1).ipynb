{
  "nbformat": 4,
  "nbformat_minor": 0,
  "metadata": {
    "colab": {
      "provenance": []
    },
    "kernelspec": {
      "name": "python3",
      "display_name": "Python 3"
    },
    "language_info": {
      "name": "python"
    }
  },
  "cells": [
    {
      "cell_type": "markdown",
      "source": [
        "# Installation & Imports"
      ],
      "metadata": {
        "id": "I6E1OkgTlFc6"
      }
    },
    {
      "cell_type": "code",
      "execution_count": null,
      "metadata": {
        "colab": {
          "base_uri": "https://localhost:8080/"
        },
        "id": "lZouuqrtVMop",
        "outputId": "502d3e9c-273a-4b68-961d-b6e8de3ae96a"
      },
      "outputs": [
        {
          "output_type": "stream",
          "name": "stdout",
          "text": [
            "\u001b[?25l   \u001b[90m━━━━━━━━━━━━━━━━━━━━━━━━━━━━━━━━━━━━━━━━\u001b[0m \u001b[32m0.0/55.6 kB\u001b[0m \u001b[31m?\u001b[0m eta \u001b[36m-:--:--\u001b[0m\r\u001b[2K   \u001b[90m━━━━━━━━━━━━━━━━━━━━━━━━━━━━━━━━━━━━━━━━\u001b[0m \u001b[32m55.6/55.6 kB\u001b[0m \u001b[31m2.4 MB/s\u001b[0m eta \u001b[36m0:00:00\u001b[0m\n",
            "\u001b[2K   \u001b[90m━━━━━━━━━━━━━━━━━━━━━━━━━━━━━━━━━━━━━━━━\u001b[0m \u001b[32m2.4/2.4 MB\u001b[0m \u001b[31m33.2 MB/s\u001b[0m eta \u001b[36m0:00:00\u001b[0m\n",
            "\u001b[2K   \u001b[90m━━━━━━━━━━━━━━━━━━━━━━━━━━━━━━━━━━━━━━━━\u001b[0m \u001b[32m5.9/5.9 MB\u001b[0m \u001b[31m80.2 MB/s\u001b[0m eta \u001b[36m0:00:00\u001b[0m\n",
            "\u001b[2K   \u001b[90m━━━━━━━━━━━━━━━━━━━━━━━━━━━━━━━━━━━━━━━━\u001b[0m \u001b[32m267.2/267.2 kB\u001b[0m \u001b[31m14.6 MB/s\u001b[0m eta \u001b[36m0:00:00\u001b[0m\n",
            "\u001b[2K   \u001b[90m━━━━━━━━━━━━━━━━━━━━━━━━━━━━━━━━━━━━━━━━\u001b[0m \u001b[32m57.5/57.5 kB\u001b[0m \u001b[31m3.9 MB/s\u001b[0m eta \u001b[36m0:00:00\u001b[0m\n",
            "\u001b[2K   \u001b[90m━━━━━━━━━━━━━━━━━━━━━━━━━━━━━━━━━━━━━━━━\u001b[0m \u001b[32m62.5/62.5 kB\u001b[0m \u001b[31m4.4 MB/s\u001b[0m eta \u001b[36m0:00:00\u001b[0m\n",
            "\u001b[2K   \u001b[90m━━━━━━━━━━━━━━━━━━━━━━━━━━━━━━━━━━━━━━━━\u001b[0m \u001b[32m67.6/67.6 kB\u001b[0m \u001b[31m4.4 MB/s\u001b[0m eta \u001b[36m0:00:00\u001b[0m\n",
            "\u001b[2K   \u001b[90m━━━━━━━━━━━━━━━━━━━━━━━━━━━━━━━━━━━━━━━━\u001b[0m \u001b[32m16.0/16.0 MB\u001b[0m \u001b[31m76.4 MB/s\u001b[0m eta \u001b[36m0:00:00\u001b[0m\n",
            "\u001b[2K   \u001b[90m━━━━━━━━━━━━━━━━━━━━━━━━━━━━━━━━━━━━━━━━\u001b[0m \u001b[32m13.3/13.3 MB\u001b[0m \u001b[31m86.7 MB/s\u001b[0m eta \u001b[36m0:00:00\u001b[0m\n",
            "\u001b[2K   \u001b[90m━━━━━━━━━━━━━━━━━━━━━━━━━━━━━━━━━━━━━━━━\u001b[0m \u001b[32m316.6/316.6 kB\u001b[0m \u001b[31m20.2 MB/s\u001b[0m eta \u001b[36m0:00:00\u001b[0m\n",
            "\u001b[2K   \u001b[90m━━━━━━━━━━━━━━━━━━━━━━━━━━━━━━━━━━━━━━━━\u001b[0m \u001b[32m646.7/646.7 kB\u001b[0m \u001b[31m35.0 MB/s\u001b[0m eta \u001b[36m0:00:00\u001b[0m\n",
            "\u001b[2K   \u001b[90m━━━━━━━━━━━━━━━━━━━━━━━━━━━━━━━━━━━━━━━━\u001b[0m \u001b[32m46.0/46.0 kB\u001b[0m \u001b[31m3.1 MB/s\u001b[0m eta \u001b[36m0:00:00\u001b[0m\n",
            "\u001b[2K   \u001b[90m━━━━━━━━━━━━━━━━━━━━━━━━━━━━━━━━━━━━━━━━\u001b[0m \u001b[32m86.8/86.8 kB\u001b[0m \u001b[31m5.2 MB/s\u001b[0m eta \u001b[36m0:00:00\u001b[0m\n",
            "\u001b[?25h\u001b[31mERROR: pip's dependency resolver does not currently take into account all the packages that are installed. This behaviour is the source of the following dependency conflicts.\n",
            "google-cloud-datastore 2.19.0 requires protobuf!=3.20.0,!=3.20.1,!=4.21.0,!=4.21.1,!=4.21.2,!=4.21.3,!=4.21.4,!=4.21.5,<5.0.0dev,>=3.19.5, but you have protobuf 5.28.3 which is incompatible.\n",
            "google-cloud-firestore 2.16.1 requires protobuf!=3.20.0,!=3.20.1,!=4.21.0,!=4.21.1,!=4.21.2,!=4.21.3,!=4.21.4,!=4.21.5,<5.0.0dev,>=3.19.5, but you have protobuf 5.28.3 which is incompatible.\n",
            "tensorboard 2.17.0 requires protobuf!=4.24.0,<5.0.0,>=3.19.6, but you have protobuf 5.28.3 which is incompatible.\n",
            "tensorflow 2.17.0 requires protobuf!=4.21.0,!=4.21.1,!=4.21.2,!=4.21.3,!=4.21.4,!=4.21.5,<5.0.0dev,>=3.20.3, but you have protobuf 5.28.3 which is incompatible.\n",
            "tensorflow-metadata 1.16.1 requires protobuf<4.21,>=3.20.3; python_version < \"3.11\", but you have protobuf 5.28.3 which is incompatible.\u001b[0m\u001b[31m\n",
            "\u001b[0m"
          ]
        }
      ],
      "source": [
        "!pip install 'qdrant-client[fastembed]' --quiet --upgrade"
      ]
    },
    {
      "cell_type": "code",
      "source": [
        "from typing import List\n",
        "from qdrant_client import QdrantClient"
      ],
      "metadata": {
        "id": "LtzP1M1pVNiR"
      },
      "execution_count": null,
      "outputs": []
    },
    {
      "cell_type": "markdown",
      "source": [
        "# Dataset"
      ],
      "metadata": {
        "id": "bL6nB3D-lJPl"
      }
    },
    {
      "cell_type": "code",
      "source": [
        "documents: List[str] = [\n",
        "    \"Sachin Tendulkar was born on April 24, 1973, in Mumbai, India. He showed an early talent for cricket and was considered a child prodigy\",\n",
        "    \"He made his international debut for India at the age of 16 against Pakistan in Karachi in 1989, making him one of the youngest players ever to play for India\",\n",
        "    \"He holds numerous cricketing records, including the most runs in both Test and one-day internationals. He was the first player to score a double century in a One Day International (ODI) match\",\n",
        "    \"He has scored 100 international centuries (51 in Tests and 49 in ODIs), which is a world record. He was part of the Indian team that won the 2011 ICC Cricket World Cup\",\n",
        "    \"His performance in the tournament was instrumental in India's success. In 1997, he was awarded the Rajiv Gandhi Khel Ratna, India's highest honor given for achievement in sports. In 2014, he became the youngest recipient and the first sportsperson to receive the Bharat Ratna, India's highest civilian award\",\n",
        "    \"His international career spanned 24 years, from 1989 to 2013, during which he played 200 Test matches and 463 ODIs\",\n",
        "    \"After his international retirement, he continued to play in the Indian Premier League (IPL) for the Mumbai Indians until his retirement from all forms of cricket in 2013\",\n",
        "    \"He authored his autobiography, Playing It My Way, which was released in November 2014 and provides insights into his personal life and cricketing career\"\n",
        "    ]"
      ],
      "metadata": {
        "id": "WNtWivfMVNlB"
      },
      "execution_count": null,
      "outputs": []
    },
    {
      "cell_type": "code",
      "source": [
        "inp_collection_name = \"sachin_collection\"\n",
        "import pandas as pd\n",
        "data = pd.read_csv(\"/content/data.csv\")"
      ],
      "metadata": {
        "id": "B1V7zWOWWuC7"
      },
      "execution_count": null,
      "outputs": []
    },
    {
      "cell_type": "code",
      "source": [
        "documents=data['text'].tolist()"
      ],
      "metadata": {
        "id": "1mN7uCsuJcTD"
      },
      "execution_count": null,
      "outputs": []
    },
    {
      "cell_type": "markdown",
      "source": [
        "# DB Creation"
      ],
      "metadata": {
        "id": "iCJq6NcJlLGo"
      }
    },
    {
      "cell_type": "code",
      "source": [
        "client = QdrantClient(\":memory:\")\n",
        "client.add(collection_name= inp_collection_name, documents=documents)"
      ],
      "metadata": {
        "colab": {
          "base_uri": "https://localhost:8080/"
        },
        "id": "C5WjUjffVNoC",
        "outputId": "04f518d7-f1c2-45e7-bace-17a674daa9eb"
      },
      "execution_count": null,
      "outputs": [
        {
          "output_type": "stream",
          "name": "stderr",
          "text": [
            "100%|██████████| 77.7M/77.7M [00:01<00:00, 60.7MiB/s]\n"
          ]
        },
        {
          "output_type": "execute_result",
          "data": {
            "text/plain": [
              "['03f1c3fef4444d83ace76887c817475c',\n",
              " 'f0de500fe2f54a46866e5fcff12440dc',\n",
              " '6db9eddc76b54657ae2a15311967ae52',\n",
              " '1f9012fe661d41ce8511a111c439bd8d',\n",
              " '26f12deed1084b9fb1e385029eb1e4e9',\n",
              " 'bb3d5811c3f540ec81110a1cc55c33fb',\n",
              " 'c580e65fc00e44ad898396f0e17901a2',\n",
              " '8aed2ad7809c4f65b4535076e1c67a7f']"
            ]
          },
          "metadata": {},
          "execution_count": 12
        }
      ]
    },
    {
      "cell_type": "code",
      "source": [
        "client.get_collection(collection_name=inp_collection_name)"
      ],
      "metadata": {
        "colab": {
          "base_uri": "https://localhost:8080/"
        },
        "id": "cY5CysQ7XGby",
        "outputId": "a3b3b370-25c9-4a30-ef9e-92dd97d6b6c1"
      },
      "execution_count": null,
      "outputs": [
        {
          "output_type": "execute_result",
          "data": {
            "text/plain": [
              "CollectionInfo(status=<CollectionStatus.GREEN: 'green'>, optimizer_status=<OptimizersStatusOneOf.OK: 'ok'>, vectors_count=None, indexed_vectors_count=0, points_count=8, segments_count=1, config=CollectionConfig(params=CollectionParams(vectors={'fast-bge-small-en': VectorParams(size=384, distance=<Distance.COSINE: 'Cosine'>, hnsw_config=None, quantization_config=None, on_disk=None, datatype=None, multivector_config=None)}, shard_number=None, sharding_method=None, replication_factor=None, write_consistency_factor=None, read_fan_out_factor=None, on_disk_payload=None, sparse_vectors=None), hnsw_config=HnswConfig(m=16, ef_construct=100, full_scan_threshold=10000, max_indexing_threads=0, on_disk=None, payload_m=None), optimizer_config=OptimizersConfig(deleted_threshold=0.2, vacuum_min_vector_number=1000, default_segment_number=0, max_segment_size=None, memmap_threshold=None, indexing_threshold=20000, flush_interval_sec=5, max_optimization_threads=1), wal_config=WalConfig(wal_capacity_mb=32, wal_segments_ahead=0), quantization_config=None), payload_schema={})"
            ]
          },
          "metadata": {},
          "execution_count": 13
        }
      ]
    },
    {
      "cell_type": "code",
      "source": [
        "input_query_text = \"ODI?\""
      ],
      "metadata": {
        "id": "7nfLrEuIWi_j"
      },
      "execution_count": null,
      "outputs": []
    },
    {
      "cell_type": "code",
      "source": [
        "search_result = client.query(collection_name = inp_collection_name,\n",
        "                              query_text = input_query_text\n",
        "                             )"
      ],
      "metadata": {
        "id": "N1YON-4oWgDh"
      },
      "execution_count": null,
      "outputs": []
    },
    {
      "cell_type": "code",
      "source": [
        "for result in search_result:\n",
        "    print(result)"
      ],
      "metadata": {
        "colab": {
          "base_uri": "https://localhost:8080/"
        },
        "id": "AaxY_AohWgIl",
        "outputId": "6ac02e29-cbea-49a4-d278-94fa769b555d"
      },
      "execution_count": null,
      "outputs": [
        {
          "output_type": "stream",
          "name": "stdout",
          "text": [
            "id='6db9eddc76b54657ae2a15311967ae52' embedding=None sparse_embedding=None metadata={'document': 'He holds numerous cricketing records, including the most runs in both Test and one-day internationals. He was the first player to score a double century in a One Day International (ODI) match'} document='He holds numerous cricketing records, including the most runs in both Test and one-day internationals. He was the first player to score a double century in a One Day International (ODI) match' score=0.8576129688094036\n",
            "id='1f9012fe661d41ce8511a111c439bd8d' embedding=None sparse_embedding=None metadata={'document': 'He has scored 100 international centuries (51 in Tests and 49 in ODIs), which is a world record. He was part of the Indian team that won the 2011 ICC Cricket World Cup'} document='He has scored 100 international centuries (51 in Tests and 49 in ODIs), which is a world record. He was part of the Indian team that won the 2011 ICC Cricket World Cup' score=0.8418529955443401\n",
            "id='26f12deed1084b9fb1e385029eb1e4e9' embedding=None sparse_embedding=None metadata={'document': \"His performance in the tournament was instrumental in India's success. In 1997, he was awarded the Rajiv Gandhi Khel Ratna, India's highest honor given for achievement in sports. In 2014, he became the youngest recipient and the first sportsperson to receive the Bharat Ratna, India's highest civilian award\"} document=\"His performance in the tournament was instrumental in India's success. In 1997, he was awarded the Rajiv Gandhi Khel Ratna, India's highest honor given for achievement in sports. In 2014, he became the youngest recipient and the first sportsperson to receive the Bharat Ratna, India's highest civilian award\" score=0.8135042391825147\n",
            "id='03f1c3fef4444d83ace76887c817475c' embedding=None sparse_embedding=None metadata={'document': 'Sachin Tendulkar was born on April 24, 1973, in Mumbai, India. He showed an early talent for cricket and was considered a child prodigy'} document='Sachin Tendulkar was born on April 24, 1973, in Mumbai, India. He showed an early talent for cricket and was considered a child prodigy' score=0.8064980280441114\n",
            "id='c580e65fc00e44ad898396f0e17901a2' embedding=None sparse_embedding=None metadata={'document': 'After his international retirement, he continued to play in the Indian Premier League (IPL) for the Mumbai Indians until his retirement from all forms of cricket in 2013'} document='After his international retirement, he continued to play in the Indian Premier League (IPL) for the Mumbai Indians until his retirement from all forms of cricket in 2013' score=0.7874432224309473\n",
            "id='f0de500fe2f54a46866e5fcff12440dc' embedding=None sparse_embedding=None metadata={'document': 'He made his international debut for India at the age of 16 against Pakistan in Karachi in 1989, making him one of the youngest players ever to play for India'} document='He made his international debut for India at the age of 16 against Pakistan in Karachi in 1989, making him one of the youngest players ever to play for India' score=0.7858730748034055\n",
            "id='bb3d5811c3f540ec81110a1cc55c33fb' embedding=None sparse_embedding=None metadata={'document': 'His international career spanned 24 years, from 1989 to 2013, during which he played 200 Test matches and 463 ODIs'} document='His international career spanned 24 years, from 1989 to 2013, during which he played 200 Test matches and 463 ODIs' score=0.7650525597183795\n",
            "id='8aed2ad7809c4f65b4535076e1c67a7f' embedding=None sparse_embedding=None metadata={'document': 'He authored his autobiography, Playing It My Way, which was released in November 2014 and provides insights into his personal life and cricketing career'} document='He authored his autobiography, Playing It My Way, which was released in November 2014 and provides insights into his personal life and cricketing career' score=0.7567769536178316\n"
          ]
        }
      ]
    },
    {
      "cell_type": "code",
      "source": [],
      "metadata": {
        "id": "H2D7GfuqZAW6"
      },
      "execution_count": null,
      "outputs": []
    }
  ]
}